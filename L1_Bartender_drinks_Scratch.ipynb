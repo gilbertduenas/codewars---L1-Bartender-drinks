{
  "nbformat": 4,
  "nbformat_minor": 0,
  "metadata": {
    "colab": {
      "name": "L1-Bartender-drinks Scratch",
      "provenance": [],
      "authorship_tag": "ABX9TyOclPDycFMrLDwo3XxxCk8B",
      "include_colab_link": true
    },
    "kernelspec": {
      "name": "python3",
      "display_name": "Python 3"
    }
  },
  "cells": [
    {
      "cell_type": "markdown",
      "metadata": {
        "id": "view-in-github",
        "colab_type": "text"
      },
      "source": [
        "<a href=\"https://colab.research.google.com/github/gilbertduenas/codewars---L1-Bartender-drinks/blob/master/L1_Bartender_drinks_Scratch.ipynb\" target=\"_parent\"><img src=\"https://colab.research.google.com/assets/colab-badge.svg\" alt=\"Open In Colab\"/></a>"
      ]
    },
    {
      "cell_type": "code",
      "metadata": {
        "id": "7kvdy_C9qfew",
        "colab_type": "code",
        "colab": {}
      },
      "source": [
        "drinks = {\"jabroni\":\"Patron Tequila\",\n",
        "    \"school counselor\":\"Anything with Alcohol\",\n",
        "    \"programmer\":\"Hipster Craft Beer\",\n",
        "    \"bike gang member\":\"Moonshine\",\n",
        "    \"politician\":\"Your tax dollars\",\n",
        "    \"rapper\":\"Cristal\"}\n",
        "    \n",
        "def get_drink_by_profession(param):\n",
        "    key = param.lower()\n",
        "    \n",
        "    if key in drinks:\n",
        "        return drinks[key]\n",
        "    else:\n",
        "        return \"Beer\""
      ],
      "execution_count": null,
      "outputs": []
    },
    {
      "cell_type": "code",
      "metadata": {
        "id": "Zj5SJ7pq_FBJ",
        "colab_type": "code",
        "colab": {}
      },
      "source": [
        "get_drink_by_profession(\"jabrOni\")"
      ],
      "execution_count": null,
      "outputs": []
    },
    {
      "cell_type": "code",
      "metadata": {
        "id": "MAv9fiiS_LQN",
        "colab_type": "code",
        "colab": {}
      },
      "source": [
        "get_drink_by_profession(\"scHOOl counselor\")"
      ],
      "execution_count": null,
      "outputs": []
    },
    {
      "cell_type": "code",
      "metadata": {
        "id": "PlJ9fRPh_Oga",
        "colab_type": "code",
        "colab": {}
      },
      "source": [
        "get_drink_by_profession(\"prOgramMer\")"
      ],
      "execution_count": null,
      "outputs": []
    },
    {
      "cell_type": "code",
      "metadata": {
        "id": "BV6o2iRN_QC0",
        "colab_type": "code",
        "colab": {}
      },
      "source": [
        "get_drink_by_profession(\"bike ganG member\")"
      ],
      "execution_count": null,
      "outputs": []
    },
    {
      "cell_type": "code",
      "metadata": {
        "id": "HA6C6GCU_Vcw",
        "colab_type": "code",
        "colab": {}
      },
      "source": [
        "get_drink_by_profession(\"poLiTiCian\")"
      ],
      "execution_count": null,
      "outputs": []
    },
    {
      "cell_type": "code",
      "metadata": {
        "id": "YS3ASmuT_XmO",
        "colab_type": "code",
        "colab": {}
      },
      "source": [
        ""
      ],
      "execution_count": null,
      "outputs": []
    }
  ]
}